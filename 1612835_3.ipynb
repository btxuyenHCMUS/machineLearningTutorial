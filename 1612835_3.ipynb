{
 "cells": [
  {
   "cell_type": "markdown",
   "metadata": {},
   "source": [
    "# Bài tập về nhà 03\n",
    "Bùi Trọng Xuyến - 1612835"
   ]
  },
  {
   "cell_type": "markdown",
   "metadata": {},
   "source": [
    "## Câu 1-3: Generalization Error\n",
    " Dựa vào đề bài mô tả, ta có các tham số sau:\n",
    " \n",
    " $P[|E_{in}(g) - E_{out}(g)| > \\epsilon] = 0.03$\n",
    " \n",
    " $\\epsilon=0.05$\n",
    " \n",
    " Ta có bất phương trình sau:\n",
    " \n",
    " $2Me^{-2\\times0.05^2N} \\leq 0.03$\n",
    " \n",
    " $\\Leftrightarrow N \\geq \\frac{\\ln{(\\frac{P}{2M})}}{-2\\epsilon^2}$\n",
    " \n",
    " Gọi hàm này nhiều làn với $M=1, 10, 100, ...$ để tính ra kết quả các câu 1, 2, 3. Ngoài ra ta cũng có thể tính được độ phức tạp của hypothesis."
   ]
  },
  {
   "cell_type": "markdown",
   "metadata": {},
   "source": [
    "**Câu 1:** với $M=1$ ta tính được $N \\geq 840$. Gần với đáp án [b]. 1000\n",
    "\n",
    "**Câu 2:** với $M=10$ ta tính được $N \\geq 1300$. Gần với đáp án [c]. 1500\n",
    "\n",
    "**Câu 3:** với $M=100$ ta tính được $N \\geq 1760$. Gần với đáp án [d]. 2000"
   ]
  },
  {
   "cell_type": "markdown",
   "metadata": {},
   "source": [
    "## Câu 4: Break point\n",
    "Ta có công thức tính $d_{VC}$ của perceptron như sau:\n",
    "\n",
    "in d-dimentional: $d_{VC} = d + 1$\n",
    "\n",
    "Vậy số điểm(n) của tập để có thể xảy ra break point là $d_{VC} + 1$"
   ]
  },
  {
   "cell_type": "markdown",
   "metadata": {},
   "source": [
    "Thay dữ liệu vào $d_{VC} + 1 = 3 + 1 + 1 = 5$\n",
    "\n",
    "Vậy đáp án là câu [b]. 5"
   ]
  },
  {
   "cell_type": "markdown",
   "metadata": {},
   "source": [
    "## Câu 5: Growth function\n",
    "Ta có công thức growth function như sau:\n",
    "- $m_{H}(N) = 2^N$ nếu không có breakpoint.\n",
    "- $m_{H}(N) = \\sum_{i=0}^{k-1} C_{N}^i$ nếu có breakpoint k."
   ]
  },
  {
   "cell_type": "markdown",
   "metadata": {},
   "source": [
    "i) $1 + N = C_{N}^0 + C_{N}^1 = \\sum_{i=0}^{2-1} C_{N}^i$ có breakpoint k = 2.\n",
    "\n",
    "ii) $1 + N + C_{N}^2 = \\sum_{i=0}^{3-1} C_{N}^i$ có breakpoint k= 3.\n",
    "\n",
    "iii) không phải là một dạng của growth function.\n",
    "\n",
    "iv) không phải là một dạng của growth funcion.\n",
    "\n",
    "v) $2^N$ không có breakpoint\n",
    "\n",
    "Vậy, đáp án đúng là [b]. i, ii, v."
   ]
  },
  {
   "cell_type": "markdown",
   "metadata": {},
   "source": [
    "## Câu 6-8: Fun with intervals"
   ]
  },
  {
   "cell_type": "markdown",
   "metadata": {},
   "source": [
    "**Câu 6:**\n",
    "\n",
    "Trong mô hình 1 chiều với hypothesis 2-interval. Tập hypothesis này sẽ không biểu diễn được (tức bị break) trường hợp 3-interval, nghĩa là $(+ - + - +)$. Do đó break point của 2-interval là 5.\n",
    "\n",
    "Giải thích thêm, thì hypothesis 2-interval chính là $h(x) = +1$ trong 2 vùng bất kìa, như vậy 3 vùng còn lại là -1.\n",
    "\n",
    "Ta có thể vẽ dưới dạng đường thẳng như sau $----...---+++...+++--...--++...+---....------>$.\n",
    "\n",
    "Vậy ta chọn đáp án [c]. 5"
   ]
  },
  {
   "cell_type": "markdown",
   "metadata": {},
   "source": [
    "\n",
    "**Câu 7:**\n",
    "\n",
    "Trong không gian 1 chiều với 2-interval ta có breakpoint $k = 5$(câu 6). Ta có hàm growthfunction như sau: $m_{H}(N) = \\sum_{i=0}^{k-1} C_{N}^i$.\n",
    "\n",
    "Khai triển với dữ liệu ta có: $m_{H}(N) = C_{N}^0 + C_{N}^1 + C_{N}^2 + C_{N}^3 + C_{N}^4$\n",
    "\n",
    " $= 1 + C_{N+1}^2 + C_{N+1}^4$.\n",
    " \n",
    " Vậy ta chọn đáp án [c]. $= 1 + C_{N+1}^2 + C_{N+1}^4$"
   ]
  },
  {
   "cell_type": "markdown",
   "metadata": {},
   "source": [
    "**Câu 8:**\n",
    "\n",
    "Tương tự cách giải thích như câu 6, $breakpoint = 2M + 1$\n",
    "\n",
    "Vậy đáp án là [d]. $2M + 1$"
   ]
  },
  {
   "cell_type": "markdown",
   "metadata": {},
   "source": [
    "## Câu 9: The triangle\n",
    "Cách đơn giản nhất là ta vẽ hình tam giác ra với tọa độ $x1, x2$.\n",
    "\n",
    "Bên trong hình tam giác sẽ cho $label = +1$. Phía ngoài tam giác {rõ hơn là có 6 vùng, 3 vùng giao, 3 vùng không giao} cho $label = -1$.\n",
    "\n",
    "Ta chỉ đạp ngược label lại sẽ ra trường hợp có $N$ nhỏ nhất sao cho không thể phát sinh dichotomy.\n",
    "\n",
    "Vậy đáp án là [d]. 7"
   ]
  },
  {
   "cell_type": "markdown",
   "metadata": {},
   "source": [
    "## Câu 10: Concentric Circles\n",
    "Mặc dù input là 2 chiều $(x_{1}, x_{2})$ nhưng cái quyến định label lại là bình phương khoảng cách.\n",
    "\n",
    "Điều đó nghĩa là nó tương tự như positive interval.\n",
    "\n",
    "Suy ra, $m_{H}(N) = \\sum_{i=0}^{2} = C_{N}^0 + C_{N}^1 + C_{N}^2 = 1 + C_{N+1}^2$\n",
    "\n",
    "Vậy đáp an là câu [b]. $1 + C_{N+1}^2$"
   ]
  }
 ],
 "metadata": {
  "kernelspec": {
   "display_name": "Python 3",
   "language": "python",
   "name": "python3"
  },
  "language_info": {
   "codemirror_mode": {
    "name": "ipython",
    "version": 3
   },
   "file_extension": ".py",
   "mimetype": "text/x-python",
   "name": "python",
   "nbconvert_exporter": "python",
   "pygments_lexer": "ipython3",
   "version": "3.7.1"
  }
 },
 "nbformat": 4,
 "nbformat_minor": 2
}
