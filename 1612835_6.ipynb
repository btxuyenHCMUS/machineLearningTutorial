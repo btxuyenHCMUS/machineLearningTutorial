{
 "cells": [
  {
   "cell_type": "markdown",
   "metadata": {},
   "source": [
    "# Bài tập 6\n",
    "\n",
    "\n",
    "Bùi Trọng Xuyến - 1612835\n",
    "\n",
    "---"
   ]
  },
  {
   "cell_type": "markdown",
   "metadata": {},
   "source": [
    "## Câu 1: Overfitting and Deterministic Noise\n",
    "Định nghĩa deterministic noise: là một phần của $f$ mà $\\mathcal H$ không thể capture được. $f(\\mathbf{x}) − h^∗(\\mathbf{x})$\". Trong đó, $h^*(\\mathbf{x})$ là hàm tốt nhất của $\\mathcal H$ dùng để xấp xỉ $f$.\n",
    "\n",
    "Nghĩa là trong số các $\\mathcal{H'} \\subset \\mathcal{H}$ thì chỉ có một $\\mathcal{H'}$ làm cho giá trị nhiễu là nhỏ nhất.\n",
    "\n",
    "Vậy, khi dùng $\\mathcal H' \\subset  \\mathcal H$ thì nhìn chung giá trị nhiễu sẽ tăng lên.\n",
    "\n",
    "**Câu 1:** [b]. In general, deterministic noise will increase."
   ]
  },
  {
   "cell_type": "markdown",
   "metadata": {},
   "source": [
    "## Câu 2-6: Regularization with Weight Decay"
   ]
  },
  {
   "cell_type": "markdown",
   "metadata": {},
   "source": [
    "Import các thư viện cần thiết và lấy dữ liệu từ file cho sẵn"
   ]
  },
  {
   "cell_type": "code",
   "execution_count": 1,
   "metadata": {},
   "outputs": [],
   "source": [
    "import numpy as np\n",
    "import matplotlib.pyplot as plt\n",
    "\n",
    "#load train-data from \"in.dta\"\n",
    "train_data = np.loadtxt(\"in.dta.txt\")\n",
    "out_data = np.loadtxt(\"out.dta.txt\")\n",
    "\n",
    "train_X = train_data[:, 0:2]\n",
    "train_Y = train_data[:, 2].reshape(-1, 1)\n",
    "out_X = out_data[:, 0:2]\n",
    "out_Y = out_data[:, 2].reshape(-1, 1)"
   ]
  },
  {
   "cell_type": "markdown",
   "metadata": {},
   "source": [
    "Hàm nonlinear transform"
   ]
  },
  {
   "cell_type": "code",
   "execution_count": 2,
   "metadata": {},
   "outputs": [],
   "source": [
    "def nonlinearTransform(X):\n",
    "    \"\"\"\n",
    "    parameter:\n",
    "    ----------\n",
    "    X: input matrix\n",
    "        shape: (N, 2)\n",
    "    return:\n",
    "    -------\n",
    "    result: input matrix\n",
    "        shape: (N, 8)\n",
    "    \"\"\"\n",
    "    result = np.zeros((X.shape[0], 8))\n",
    "    \n",
    "    # Apply function as question\n",
    "    result[:, 0] = 1\n",
    "    result[:, 1] = X[:, 0]\n",
    "    result[:, 2] = X[:, 1]\n",
    "    result[:, 3] = X[:, 0]**2\n",
    "    result[:, 4] = X[:, 1]**2\n",
    "    result[:, 5] = X[:, 0]*X[:, 1]\n",
    "    result[:, 6] = abs(X[:, 0] - X[:, 1])\n",
    "    result[:, 7] = abs(X[:, 0] + X[:, 1])\n",
    "    \n",
    "    return result"
   ]
  },
  {
   "cell_type": "markdown",
   "metadata": {},
   "source": [
    "Chuyển tập dữ liệu ban đầu bằng công thức trainsform"
   ]
  },
  {
   "cell_type": "code",
   "execution_count": 3,
   "metadata": {},
   "outputs": [],
   "source": [
    "iZ = nonlinearTransform(train_X)\n",
    "iY = np.copy(train_Y)\n",
    "\n",
    "oZ = nonlinearTransform(out_X)\n",
    "oY = np.copy(out_Y)"
   ]
  },
  {
   "cell_type": "markdown",
   "metadata": {},
   "source": [
    "Hàm tìm Wreg theo công thức học có tiết chế"
   ]
  },
  {
   "cell_type": "code",
   "execution_count": 4,
   "metadata": {},
   "outputs": [],
   "source": [
    "def linearRegressionReg(Z, y, lamda):\n",
    "    \"\"\"\n",
    "    parameters\n",
    "    ----------\n",
    "    Z: matrix input after nonlinear transform\n",
    "        shape (N, 8)\n",
    "    y: vector label true\n",
    "        shape (N, 1)\n",
    "    lamda: float\n",
    "    return\n",
    "    -------\n",
    "    Wreg: weight of linearRegressReg\n",
    "        shape (8, 1)\n",
    "    \"\"\"\n",
    "    zTz = np.dot(Z.T, Z)\n",
    "    # cost matrix [1 0 .. 0]\n",
    "    #             [0 1 .. 0]\n",
    "    #             [ ...... ]\n",
    "    #             [0 .... 1]\n",
    "    I = np.eye(zTz.shape[0])\n",
    "    \n",
    "    return np.dot(np.dot(np.linalg.inv(zTz + lamda*I), Z.T), y)"
   ]
  },
  {
   "cell_type": "markdown",
   "metadata": {},
   "source": [
    "Hàm tính độ lỗi theo Euclidean distance"
   ]
  },
  {
   "cell_type": "code",
   "execution_count": 5,
   "metadata": {},
   "outputs": [],
   "source": [
    "def E(Z, Wreg, Y):\n",
    "    \"\"\"\n",
    "    paramters\n",
    "    ---------\n",
    "    Z: input matrix after transform\n",
    "        shape (N, 8)\n",
    "    Wreg: weight reg\n",
    "        shape (8, 1)\n",
    "    Y: vector label true\n",
    "        shape (8, 1)\n",
    "    return\n",
    "    ------\n",
    "    Average error with euclidene distance\n",
    "    \"\"\"\n",
    "    return np.mean(np.sign(np.dot(Z, Wreg)) != Y)"
   ]
  },
  {
   "cell_type": "markdown",
   "metadata": {},
   "source": [
    "**Câu 2:**"
   ]
  },
  {
   "cell_type": "code",
   "execution_count": 6,
   "metadata": {},
   "outputs": [
    {
     "name": "stdout",
     "output_type": "stream",
     "text": [
      "(Error in, Error out):  0.02857142857142857 0.084\n"
     ]
    }
   ],
   "source": [
    "def Q2(iZ, iY, oZ, oY):\n",
    "    # Calc weight reg with indata\n",
    "    Wreg = linearRegressionReg(iZ, iY, 0)\n",
    "    # Calc error on indata\n",
    "    errorIn = E(iZ, Wreg, iY)\n",
    "    # Calc error on outdata\n",
    "    errorOut = E(oZ, Wreg, oY)\n",
    "    \n",
    "    print(\"(Error in, Error out): \", errorIn, errorOut)\n",
    "#show result\n",
    "Q2(iZ, iY, oZ, oY)"
   ]
  },
  {
   "cell_type": "markdown",
   "metadata": {},
   "source": [
    "Vậy đáp án cần chọn là [a]. 0.03, 0.08"
   ]
  },
  {
   "cell_type": "markdown",
   "metadata": {},
   "source": [
    "**Câu 3:**"
   ]
  },
  {
   "cell_type": "code",
   "execution_count": 7,
   "metadata": {},
   "outputs": [
    {
     "name": "stdout",
     "output_type": "stream",
     "text": [
      "(Error in, Error out):  0.02857142857142857 0.08\n"
     ]
    }
   ],
   "source": [
    "def Q3(iZ, iY, oZ, oY):\n",
    "    # Calc weight reg with indata\n",
    "    Wreg = linearRegressionReg(iZ, iY, 10**-3)\n",
    "    # Calc error on indata\n",
    "    errorIn = E(iZ, Wreg, iY)\n",
    "    # Calc error on outdata\n",
    "    errorOut = E(oZ, Wreg, oY)\n",
    "    \n",
    "    print(\"(Error in, Error out): \", errorIn, errorOut)\n",
    "#show result\n",
    "Q3(iZ, iY, oZ, oY)"
   ]
  },
  {
   "cell_type": "markdown",
   "metadata": {},
   "source": [
    "Vậy đáp án cần chọn là [1]. 0.03, 0.08"
   ]
  },
  {
   "cell_type": "markdown",
   "metadata": {},
   "source": [
    "**Câu 4:**"
   ]
  },
  {
   "cell_type": "code",
   "execution_count": 8,
   "metadata": {},
   "outputs": [
    {
     "name": "stdout",
     "output_type": "stream",
     "text": [
      "(Error in, Error out):  0.37142857142857144 0.436\n"
     ]
    }
   ],
   "source": [
    "def Q4(iZ, iY, oZ, oY):\n",
    "    # Calc weight reg with indata\n",
    "    Wreg = linearRegressionReg(iZ, iY, 10**3)\n",
    "    # Calc error on indata\n",
    "    errorIn = E(iZ, Wreg, iY)\n",
    "    # Calc error on outdata\n",
    "    errorOut = E(oZ, Wreg, oY)\n",
    "    \n",
    "    print(\"(Error in, Error out): \", errorIn, errorOut)\n",
    "#show result\n",
    "Q4(iZ, iY, oZ, oY)"
   ]
  },
  {
   "cell_type": "markdown",
   "metadata": {},
   "source": [
    "Vậy đáp án là [e]. 0.4, 0.4"
   ]
  },
  {
   "cell_type": "markdown",
   "metadata": {},
   "source": [
    "**Câu 5:**"
   ]
  },
  {
   "cell_type": "code",
   "execution_count": 9,
   "metadata": {},
   "outputs": [
    {
     "name": "stdout",
     "output_type": "stream",
     "text": [
      "k =  2 :  0.228\n",
      "k =  1 :  0.124\n",
      "k =  0 :  0.092\n",
      "k =  -1 :  0.056\n",
      "k =  -2 :  0.084\n"
     ]
    }
   ],
   "source": [
    "def Q5(iZ, iY, oZ, oY):\n",
    "    K = [2, 1, 0, -1, -2]\n",
    "    \n",
    "    for k in K:\n",
    "        Wreg = linearRegressionReg(iZ, iY, 10**k)\n",
    "        # Calc error on outdata\n",
    "        errorOut = E(oZ, Wreg, oY)\n",
    "        print(\"k = \", k, \": \", errorOut)\n",
    "#show result\n",
    "Q5(iZ, iY, oZ, oY)"
   ]
  },
  {
   "cell_type": "markdown",
   "metadata": {},
   "source": [
    "Vậy chọn đáp án [d]. -1"
   ]
  },
  {
   "cell_type": "markdown",
   "metadata": {},
   "source": [
    "**Câu 6:**"
   ]
  },
  {
   "cell_type": "code",
   "execution_count": 10,
   "metadata": {},
   "outputs": [
    {
     "data": {
      "image/png": "[encoded data removed]",
      "text/plain": [
       "<Figure size 432x288 with 1 Axes>"
      ]
     },
     "metadata": {
      "needs_background": "light"
     },
     "output_type": "display_data"
    },
    {
     "name": "stdout",
     "output_type": "stream",
     "text": [
      "[0.084 0.084 0.084 0.084 0.084 0.084 0.084 0.08  0.084 0.056 0.092 0.124\n",
      " 0.228 0.436 0.452 0.456 0.456 0.456 0.456 0.456 0.456]\n"
     ]
    }
   ],
   "source": [
    "def Q6(iZ, iY, oZ, oY):\n",
    "    K = [-10, -9, -8, -7, -6, -5, -4, -3, -2, -1, 0, 1, 2, 3, 4, 5, 6, 7, 8, 9, 10]\n",
    "    error = np.zeros(len(K))\n",
    "    \n",
    "    for idx in range(len(K)):\n",
    "        Wreg = linearRegressionReg(iZ, iY, 10**K[idx])\n",
    "        \n",
    "        # Calc error on outdata\n",
    "        error[idx] = E(oZ, Wreg, oY)\n",
    "    \n",
    "    #show plot\n",
    "    plt.plot(K, error)\n",
    "    plt.show()\n",
    "    print(error)\n",
    "\n",
    "#show result\n",
    "Q6(iZ, iY, oZ, oY)"
   ]
  },
  {
   "cell_type": "markdown",
   "metadata": {},
   "source": [
    "Dựa vào biểu đồ và số liệu bên dưới thì giá trị độ lỗi nhỏ nhất là 0.056 ứng với $k=-1$.\n",
    "\n",
    "Vậy chọn đáp án [b]. 0.06"
   ]
  },
  {
   "cell_type": "markdown",
   "metadata": {},
   "source": [
    "## Câu 7: Regularization for Polynomials\n",
    "Ta có phép biến đổi: $$x \\in \\mathbb{R} \\rightarrow \\mathbf{z} \\in \\mathbb{R}^{Q+1}$$\n",
    "với $\\mathbf{z} = (1, L_1(x), L_2(x), ..., L_Q(x))$. Trong đó $L_Q(x)$ là đa thức larange bậc Q.\n",
    "\n",
    "Như vậy, $$\\mathcal{H}_Q = \\{h | h(x) = \\mathbf{w}^T z = \\sum^{Q}_{q=0} w_q L_q(x)\\},$$ là một hypothesis có có Q + 1 thành phần với bậc cao nhất là Q.\n",
    "\n",
    "Còn theo câu 7, ta có: $$\\mathcal{H}(Q, C, Q_0) = \\{ h | h(x) = \\mathbf{w}^T z \\in \\mathcal{H}_Q; w_q = C for q \\geq Q_0\\}, $$ là một hypothesis có bậc cao nhất là Q, các phần từ có bậc từ $Q_0$ sẽ có trọng số là $w_q = C$."
   ]
  },
  {
   "cell_type": "markdown",
   "metadata": {},
   "source": [
    "[a]. $\\mathcal{H}(10, 0, 3) \\cup \\mathcal{H}(10, 0, 4)$ - bậc 2 hợp với bậc 3 = bậc 3 nên câu a sai.\n",
    "\n",
    "[b]. $\\mathcal{H}(10, 1, 3) \\cup \\mathcal{H}(10, 1, 4)$ - bậc 10 hợp với bậc 10 = bậc 10 nên câu b cũng sai.\n",
    "\n",
    "[c]. $\\mathcal{H}(10, 0, 3) \\cap \\mathcal{H}(10, 0, 4)$ - bậc 2 giao với bậc 3 = bậc 2 nên câu c đúng.\n",
    "\n",
    "[d]. $\\mathcal{H}(10, 1, 3) \\cap \\mathcal{H}(10, 1, 4)$ - bậc 10 giao với bậc 10 = bậc 10 nên câu d cũng sai.\n",
    "\n",
    "Vậy ta chọn đáp án [c]. $\\mathcal{H}(10, 0, 3) \\cap \\mathcal{H}(10, 0, 4) = \\mathcal{H}_2$"
   ]
  },
  {
   "cell_type": "markdown",
   "metadata": {},
   "source": [
    "## Câu 8-10: Neural Networks"
   ]
  },
  {
   "cell_type": "code",
   "execution_count": 11,
   "metadata": {},
   "outputs": [
    {
     "data": {
      "image/png": "[encoded data removed]",
      "text/plain": [
       "<Figure size 432x288 with 1 Axes>"
      ]
     },
     "metadata": {
      "needs_background": "light"
     },
     "output_type": "display_data"
    }
   ],
   "source": [
    "import matplotlib.image as mpimg\n",
    "\n",
    "img = mpimg.imread('neuralNet.jpg')\n",
    "plt.imshow(img)\n",
    "imgplot = plt.imshow(img)\n",
    "plt.axis('off')\n",
    "plt.show()"
   ]
  },
  {
   "cell_type": "markdown",
   "metadata": {},
   "source": [
    "**Câu 8:**\n",
    "\n",
    "Ta mô hình hóa các thông tin thành hình ảnh như trên. Ta sẽ có 3 bước như sau:\n",
    "\n",
    "- Feedforward Step: Từ input layer đến hidden layer1 có $6 x 3 = 18$ phép tính, từ hidden layer1 đến output layer có $4 x 1 = 4$ phép tính. Kết quả là 22 phép tính.\n",
    "- Backpropagation Step: Ở đây ta chỉ tính delta ở vị trí ouput layer và hidden layer1, nhưng vì output layer việc tính delta không giúp ích nên không được xem là một phép tính, ở hidden layer1 có node 1 không truy về nên không cần tính delta. Vậy có 3 phép tính.\n",
    "- Weight Update Step: Ta update tất cả các trọng số như bước 1, có 22 phép tính\n",
    "\n",
    "Vậy có tổng cộng là 47 phép tính được thực hiện.\n",
    "\n",
    "Chọn đáp án [d]. 45"
   ]
  },
  {
   "cell_type": "markdown",
   "metadata": {},
   "source": [
    "**Câu 9:** Phân tích đề bài ta có:\n",
    "- có 10 input unit(10 node input).\n",
    "- Có 36 hidden unit(chưa biết bao nhiêu hidden layer những trong đó có tất cả là 36 node).\n",
    "- Có 1 ouput unit(ouput node)\n",
    "\n",
    "Hãy tìm số lượng trọng số nhỏ nhất mà mạng này có thể có.\n",
    "\n",
    "- Vì đây là mạng neural network nên sự liên kết giữa hidden layer với ouput là fullconnected nên cần giảm số lượng hiddenlayer cuối. và nó không thể bằng 1 nên hiddenlayer cuối là 2.\n",
    "- Còn bên trong các hidden thì chúng ta cần tăng constant unit vì nó không có sự liên kết sẽ giúp giảm trọng số, vậy ta sẽ có 18 hidden layer, mỗi hiddenlayer có 2 unit (1 unit bt và 1 constant unit).\n",
    "- Từ input đến hiddenlayer1 thì cũng là full connected, và liên kết với unit bình thường.\n",
    "Vậy số weight nhỏ nhất là $$ 10 x 1 + 2 x 17 + 2 = 46$$\n",
    "\n",
    "Đáp án là [a]. 46"
   ]
  },
  {
   "cell_type": "markdown",
   "metadata": {},
   "source": [
    "**Câu 10:** Như câu 9 nhưng là trường hợp ngược lại\n",
    "\n",
    "- Chúng ta cần phải giảm constant unit để tăng lượng weight, ta thiết kết mạng 2 hidden layer (22 - 14).\n",
    "- Ta có số lượng weight: $$ 10 x 21 + 22 x 13 + 14 x 1 = 510$$\n",
    "\n",
    "Vậy ta chọn đáp án [e]. 510"
   ]
  },
  {
   "cell_type": "code",
   "execution_count": null,
   "metadata": {},
   "outputs": [],
   "source": []
  }
 ],
 "metadata": {
  "kernelspec": {
   "display_name": "Python 3",
   "language": "python",
   "name": "python3"
  },
  "language_info": {
   "codemirror_mode": {
    "name": "ipython",
    "version": 3
   },
   "file_extension": ".py",
   "mimetype": "text/x-python",
   "name": "python",
   "nbconvert_exporter": "python",
   "pygments_lexer": "ipython3",
   "version": "3.7.1"
  }
 },
 "nbformat": 4,
 "nbformat_minor": 2
}
