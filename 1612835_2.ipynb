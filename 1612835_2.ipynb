{
 "cells": [
  {
   "cell_type": "markdown",
   "metadata": {},
   "source": [
    "# Bài Tập 2\n",
    "\n",
    "Bùi Trọng Xuyến - 1612835"
   ]
  },
  {
   "cell_type": "markdown",
   "metadata": {},
   "source": [
    "### Import các thư viện cần thiết"
   ]
  },
  {
   "cell_type": "code",
   "execution_count": 1,
   "metadata": {},
   "outputs": [],
   "source": [
    "import numpy as np"
   ]
  },
  {
   "cell_type": "markdown",
   "metadata": {},
   "source": [
    "## 1 - 2"
   ]
  },
  {
   "cell_type": "code",
   "execution_count": 3,
   "metadata": {},
   "outputs": [
    {
     "name": "stdout",
     "output_type": "stream",
     "text": [
      "Vmin =  0.037758\n"
     ]
    }
   ],
   "source": [
    "\"\"\"\n",
    "Ta sẽ tạo một ma trận 'result'(n_repeats x n_noins) \"100.000 x 1.000\"\n",
    "Trong đó mỗi phần tử sẽ là giá trị ngẫu nhiên từ 0 đến N(10) chia nguyên cho N(10) với mu = 0.5\n",
    "---------------------------\n",
    "Tại vì ta có 1.000 đồng xu, mỗi đồng xu được lật 10 lần với 2 trường hợp xảy ra là head(1) và tail(0)\n",
    "nên mỗi phần tử chỉ chỉ là tổng của 10 lần lật đó và được tính trung bình nên chia thực cho 10.\n",
    "\n",
    "Bài tập yêu cầu thực hiện 100.000 lần để nu xấp xỉ mu hơn\n",
    "\n",
    "\"\"\"\n",
    "def runQ1(n_repeats, n_coins):\n",
    "    #Tạo ma trận\n",
    "    nus = np.random.binomial(10, 0.5, (n_repeats, n_coins)) / 10\n",
    "    \n",
    "    #xuất kết quả Vmin\n",
    "    print(\"Vmin = \", np.mean(np.min(nus, axis=1)))\n",
    "    \n",
    "runQ1(100000, 1000)"
   ]
  },
  {
   "cell_type": "markdown",
   "metadata": {},
   "source": [
    "Câu 1: Ta thấy kết quả gần nhất với câu [b]. 0.01"
   ]
  },
  {
   "cell_type": "code",
   "execution_count": 6,
   "metadata": {},
   "outputs": [
    {
     "name": "stdout",
     "output_type": "stream",
     "text": [
      "V1 =  0.5002159999999999\n",
      "Vmin =  0.037586\n",
      "Vrand =  0.499291\n"
     ]
    }
   ],
   "source": [
    "\"\"\"\n",
    "Ta sẽ xuất cả 3 già trị V1, Vmin, Vrand ra\n",
    "----------------\n",
    "Giá trị nào gần với mu = 0.5 thì là thõa bđt Hoffding\n",
    "\"\"\"\n",
    "def runQ2(n_repeats, n_coins):\n",
    "    #Tạo ma trận\n",
    "    nus = np.random.binomial(10, 0.5, (n_repeats, n_coins)) / 10\n",
    "    \n",
    "    #xuất kết quả\n",
    "    print(\"V1 = \", np.mean(nus[:, 0]))\n",
    "    print(\"Vmin = \", np.mean(np.min(nus, axis=1)))\n",
    "    \n",
    "    rows = np.arange(nus.shape[0])\n",
    "    cols = np.random.choice(np.arange(nus.shape[1]), size=nus.shape[0])\n",
    "    print(\"Vrand = \", np.mean(nus[rows, cols]))\n",
    "    \n",
    "runQ2(100000, 1000)"
   ]
  },
  {
   "cell_type": "markdown",
   "metadata": {},
   "source": [
    "Câu 2: Ta thấy chỉ có V1 và Vrand là có giá trị xấp xĩ mu = 0.5\n",
    "\n",
    "Nên, ta chọn đáp án [d]. c1 and crand"
   ]
  },
  {
   "cell_type": "markdown",
   "metadata": {},
   "source": [
    "## 3.\n",
    "- Trong trường hợp đúng y = f(x) (\"λ\") thì việc xác định f(x) là µ\n",
    "- Trong trường hợp sai y 6= f(x) (\"1-λ\") thì việc xác định f(x) là 1 - µ\n",
    "\n",
    "Vậy ta có kết quả độ lỗi H = (1 - µ) * (1 - λ) + µ * λ\n",
    "\n",
    "Do đó ta chọn câu [e]. (1 - µ) * (1 - λ) + µ * λ"
   ]
  },
  {
   "cell_type": "markdown",
   "metadata": {},
   "source": [
    "## 4.\n",
    "- Từ câu 3 ta khai triển\n",
    "        H = 1 - µ - λ + 2 * µ * λ\n",
    "        = 1 - λ + µ * (2 * λ - 1)\n",
    "- Vậy để h không phụ thuộc vào H, tức nghĩa là 2 * λ - 1 phải bằng 0\n",
    "Tính ra là λ = 0.5\n",
    "\n",
    "Do đó ta chọn đáp án [b]. 0.5"
   ]
  },
  {
   "cell_type": "markdown",
   "metadata": {},
   "source": [
    "## 5 - 7"
   ]
  },
  {
   "cell_type": "markdown",
   "metadata": {},
   "source": [
    "Hàm phát sinh ra `target_w`, véc-tơ tham số của $f$"
   ]
  },
  {
   "cell_type": "code",
   "execution_count": 5,
   "metadata": {},
   "outputs": [],
   "source": [
    "def generate_target_w():\n",
    "    \"\"\"\n",
    "    Generates target_w from two random, uniformly distributed points in [-1, 1] x [-1, 1].\n",
    "    \n",
    "    Returns\n",
    "    -------\n",
    "    target_w : numpy array, shape (3, 1) \n",
    "        The vector of parameters of f.\n",
    "    \"\"\"\n",
    "    # Generate two points from a uniform distribution over [-1, 1]x[-1, 1]\n",
    "    p1 = np.random.uniform(-1, 1, 2)\n",
    "    p2 = np.random.uniform(-1, 1, 2)\n",
    "    # Compute the target W from these two points\n",
    "    target_w = np.array([p1[1]*p2[0] - p1[0]*p2[1], p2[1] - p1[1], p1[0] - p2[0]]).reshape((-1, 1))\n",
    "    \n",
    "    return target_w"
   ]
  },
  {
   "cell_type": "markdown",
   "metadata": {},
   "source": [
    "Hàm phát sinh ra tập dữ liệu"
   ]
  },
  {
   "cell_type": "code",
   "execution_count": 6,
   "metadata": {},
   "outputs": [],
   "source": [
    "def generate_data(N, target_w):\n",
    "    \"\"\"\n",
    "    Generates a data set by generating random inputs and then using target_w to generate the \n",
    "    corresponding outputs.\n",
    "    \n",
    "    Parameters\n",
    "    ----------\n",
    "    N : int\n",
    "        The number of examples.\n",
    "    target_w : numpy array, shape (3, 1) \n",
    "        The vector of parameters of f.\n",
    "    \n",
    "    Returns\n",
    "    -------\n",
    "    X : numpy array, shape (N, 3)\n",
    "        The matrix of input vectors (each row corresponds to an input vector); the first column of \n",
    "        this matrix is all ones.\n",
    "    Y : numpy array, shape (N, 1)\n",
    "        The vector of outputs.        \n",
    "    \"\"\"\n",
    "    bad_data = True # `bad_data = True` means: data contain points on the target line \n",
    "                    # (this rarely happens, but just to be careful)\n",
    "                    # -> y's of these points = 0 (with np.sign); \n",
    "                    #    we don't want this (y's of data must be -1 or 1)\n",
    "                    # -> re-generate data until `bad_data = False`\n",
    "    \n",
    "    while bad_data == True:\n",
    "        X = np.random.uniform(-1, 1, (N, 2))\n",
    "        X = np.hstack((np.ones((N, 1)), X)) # Add 'ones' column\n",
    "        Y = np.sign(np.dot(X, target_w))\n",
    "        if (0 not in Y): # Good data\n",
    "            bad_data = False\n",
    "    \n",
    "    return X, Y"
   ]
  },
  {
   "cell_type": "markdown",
   "metadata": {},
   "source": [
    "Hàm chạy Linear Regression"
   ]
  },
  {
   "cell_type": "code",
   "execution_count": 7,
   "metadata": {},
   "outputs": [],
   "source": [
    "def linearRegression(X, Y):\n",
    "    \"\"\"\n",
    "    Runs lenear regression.\n",
    "    \n",
    "    Parameters\n",
    "    ----------\n",
    "    X : numpy array, shape (N, 3)\n",
    "        The matrix of input vectors (each row corresponds to an input vector); the first column of \n",
    "        this matrix is all ones.\n",
    "    Y : numpy array, shape (N, 1)\n",
    "        The vector of outputs.\n",
    "    \n",
    "    Returns\n",
    "    -------\n",
    "    w : numpy array, shape (3, 1) \n",
    "        The vector of parameters of g.\n",
    "    \"\"\"\n",
    "    w = np.dot(np.linalg.pinv(np.dot(X.T, X)), np.dot(X.T, Y))\n",
    "    \n",
    "    return w"
   ]
  },
  {
   "cell_type": "markdown",
   "metadata": {},
   "source": [
    "Hàm tính độ lỗi"
   ]
  },
  {
   "cell_type": "code",
   "execution_count": 8,
   "metadata": {},
   "outputs": [],
   "source": [
    "def Ew(X, Y, w):\n",
    "    \"\"\"\n",
    "    Parameters\n",
    "    ----------\n",
    "    X : numpy array, shape (N, random)\n",
    "        the matrix of input vectors, the first column of this matrix is all one.\n",
    "    Y : numpy array, shape(N, 1)\n",
    "        The vector of outputs.\n",
    "    w : numpy array, shape (random, 1) \n",
    "        The vector of parameters of g.\n",
    "        \n",
    "    Returns\n",
    "    -------\n",
    "    errrorCount : int\n",
    "        number of error that w make input vector\n",
    "    \"\"\"\n",
    "    errorCount = 0\n",
    "    for i in range(X.shape[0]):\n",
    "        # Nếu w phân lớp điểm sai so với kết quả thì tăng lỗi lên 1\n",
    "        if np.sign(np.dot(X[i], w)) != Y[i]:\n",
    "            errorCount += 1\n",
    "            \n",
    "    return errorCount/(float)(X.shape[0])"
   ]
  },
  {
   "cell_type": "code",
   "execution_count": 9,
   "metadata": {},
   "outputs": [],
   "source": [
    "def runQ5(N):\n",
    "    #Thực hiện 1000 lần chạy đảm bảo phân phối đúng\n",
    "    num_runs = 1000\n",
    "    ein = []\n",
    "    for i in range(num_runs):\n",
    "        #phát sinh f ngẫu nhiên sau mỗi lần chạy theo yêu cầu\n",
    "        target_w = generate_target_w()\n",
    "        #phát sinh ngẫu nhiên matrix input và từ hàm f tạo thành tập đích Y\n",
    "        X, Y = generate_data(N, target_w)\n",
    "        #Chạy thuật toán linearRegression tìm được w\n",
    "        w = linearRegression(X, Y)\n",
    "        #Cập nhập độ lỗi sau mỗi lần chạy\n",
    "        ein.append(Ew(X, Y, w))\n",
    "        \n",
    "    print(np.mean(ein))"
   ]
  },
  {
   "cell_type": "code",
   "execution_count": 10,
   "metadata": {},
   "outputs": [
    {
     "name": "stdout",
     "output_type": "stream",
     "text": [
      "0.038180000000000006\n"
     ]
    }
   ],
   "source": [
    "runQ5(100)"
   ]
  },
  {
   "cell_type": "markdown",
   "metadata": {},
   "source": [
    "Câu 5: Ta thấy kết quả gần nhất với câu [c]. 0.01"
   ]
  },
  {
   "cell_type": "code",
   "execution_count": 11,
   "metadata": {},
   "outputs": [
    {
     "name": "stdout",
     "output_type": "stream",
     "text": [
      "0.03734900000000001\n"
     ]
    }
   ],
   "source": [
    "runQ5(1000)"
   ]
  },
  {
   "cell_type": "markdown",
   "metadata": {},
   "source": [
    "Câu 6: Ta thấy kết quả gần nhất với câu [c]. 0.01"
   ]
  },
  {
   "cell_type": "markdown",
   "metadata": {},
   "source": [
    "Hàm chạy PLA"
   ]
  },
  {
   "cell_type": "code",
   "execution_count": 12,
   "metadata": {},
   "outputs": [],
   "source": [
    "def h(w, x):\n",
    "    return np.sign(np.dot(w.T, x))\n",
    "def has_converged(X, Y, w):\n",
    "    return np.array_equal(h(w, X).T, Y)\n",
    "def run_PLA(X, Y):\n",
    "    \"\"\"\n",
    "    Runs PLA.\n",
    "    \n",
    "    Parameters\n",
    "    ----------\n",
    "    X : numpy array, shape (N, 3)\n",
    "        The matrix of input vectors (each row corresponds to an input vector); the first column of \n",
    "        this matrix is all ones.\n",
    "    Y : numpy array, shape (N, 1)\n",
    "        The vector of outputs.\n",
    "    \n",
    "    Returns\n",
    "    -------\n",
    "    w : numpy array, shape (3, 1) \n",
    "        The vector of parameters of g.\n",
    "    num_iterations : int\n",
    "        The number of iterations PLA takes to converge.\n",
    "    \"\"\"\n",
    "    w = np.zeros((X.shape[1], 1)) # Init w\n",
    "    iteration = 0\n",
    "    \n",
    "    # TODO\n",
    "    X = X.T\n",
    "    while True:\n",
    "        \"\"\"\n",
    "        PLA algorithm\n",
    "        \"\"\"\n",
    "        mix_id = np.random.permutation(X.shape[1])\n",
    "        for i in range(X.shape[1]):\n",
    "            xi = X[:, mix_id[i]].reshape(X.shape[0], 1)\n",
    "            yi = Y[mix_id[i], 0]\n",
    "            if h(w, xi)[0][0] != yi:\n",
    "                iteration += 1\n",
    "                w = w + yi*xi\n",
    "        if has_converged(X, Y, w) == True:\n",
    "            break\n",
    "    X = X.T\n",
    "    \n",
    "    return w, iteration"
   ]
  },
  {
   "cell_type": "code",
   "execution_count": 13,
   "metadata": {},
   "outputs": [],
   "source": [
    "def runQ7(N):\n",
    "    num_runs = 1000\n",
    "    inter = []\n",
    "    \n",
    "    for i in range(num_runs):\n",
    "        X, Y = generate_data(N, generate_target_w())\n",
    "        w = linearRegression(X, Y)\n",
    "        while True:\n",
    "            Y = np.sign(np.dot(X, w))\n",
    "            if (0 not in Y): # Good data\n",
    "                break\n",
    "        w, interations = run_PLA(X, Y)\n",
    "        inter.append(interations)\n",
    "    print(\"Average of interations is: \", np.mean(inter))"
   ]
  },
  {
   "cell_type": "code",
   "execution_count": 14,
   "metadata": {},
   "outputs": [
    {
     "name": "stdout",
     "output_type": "stream",
     "text": [
      "Average of interations is:  5.751\n"
     ]
    }
   ],
   "source": [
    "runQ7(10)"
   ]
  },
  {
   "cell_type": "markdown",
   "metadata": {},
   "source": [
    "## 8 - 10"
   ]
  },
  {
   "cell_type": "markdown",
   "metadata": {},
   "source": [
    "Hàm phát sinh dữ liệu theo hàm $f$"
   ]
  },
  {
   "cell_type": "code",
   "execution_count": 15,
   "metadata": {},
   "outputs": [],
   "source": [
    "def generate_data_f(N):\n",
    "    bad_data = True # `bad_data = True` means: data contain points on the target line \n",
    "                    # (this rarely happens, but just to be careful)\n",
    "                    # -> y's of these points = 0 (with np.sign); \n",
    "                    #    we don't want this (y's of data must be -1 or 1)\n",
    "                    # -> re-generate data until `bad_data = False`\n",
    "    \n",
    "    while bad_data == True:\n",
    "        X = np.random.uniform(-1, 1, (N, 2))\n",
    "        X = np.hstack((np.ones((N, 1)), X)) # Add 'ones' column\n",
    "        #Tạo vector kết quả Y\n",
    "        Y = []\n",
    "        for point in X:\n",
    "            #Thực hiện theo hàm f đã cho\n",
    "            Y.append(np.sign(point[1]**2 + point[2]**2 - 0.6))\n",
    "        if (0 not in Y): # Good data\n",
    "            bad_data = False\n",
    "    #Return và chuyển thể vector Y thành matrix Y shape(N, 1)\n",
    "    return X, np.array(Y).reshape(N, 1)"
   ]
  },
  {
   "cell_type": "markdown",
   "metadata": {},
   "source": [
    "Hàm làm nhiễu tập đích"
   ]
  },
  {
   "cell_type": "code",
   "execution_count": 16,
   "metadata": {},
   "outputs": [],
   "source": [
    "def noisify(numberOfNoisify, Y):\n",
    "    \"\"\"\n",
    "        Để thực hiện việc làm nhiễu trước tiên\n",
    "        1. Tạo mảng noisify - index: vị trí chọn ngẫu nhiên để nhiễu\n",
    "        2. Thực hiện việc đảo dấu các vị trí đã được random\n",
    "    \n",
    "    \"\"\"\n",
    "    #Chỉ thực hiện việc làm nhiều khi input đúng\n",
    "    if numberOfNoisify <= Y.shape[0]:\n",
    "        #Tạo mảng index ngẫu nhiên đảm bảo mối lần làm nhiễu các vị trí khác nhau\n",
    "        noisify = np.random.permutation(Y.shape[0])\n",
    "        \n",
    "        #Thực hiện việc làm nhiễu tập đích\n",
    "        for i in range(numberOfNoisify):\n",
    "            Y[noisify[i]] *= -1"
   ]
  },
  {
   "cell_type": "code",
   "execution_count": 17,
   "metadata": {},
   "outputs": [],
   "source": [
    "def runQ8(N, numberOfNoisify):\n",
    "    #Thực hiện 1000 lần chạy\n",
    "    num_runs = 1000\n",
    "    ein = []\n",
    "    for i in range(num_runs):\n",
    "        X, Y = generate_data_f(N)\n",
    "        noisify(numberOfNoisify, Y)\n",
    "        w = linearRegression(X, Y)\n",
    "        ein.append(Ew(X, Y, w))\n",
    "        \n",
    "    print(np.mean(ein))"
   ]
  },
  {
   "cell_type": "code",
   "execution_count": 18,
   "metadata": {},
   "outputs": [
    {
     "name": "stdout",
     "output_type": "stream",
     "text": [
      "0.504973\n"
     ]
    }
   ],
   "source": [
    "runQ8(1000, 100)"
   ]
  },
  {
   "cell_type": "markdown",
   "metadata": {},
   "source": [
    "Câu 8: Ta thấy kết quả gần nhất với câu [d]. 0.5"
   ]
  },
  {
   "cell_type": "markdown",
   "metadata": {},
   "source": [
    "Hàm phát sinh dữ liệu theo yêu cầu câu 9"
   ]
  },
  {
   "cell_type": "code",
   "execution_count": 19,
   "metadata": {},
   "outputs": [],
   "source": [
    "def generate_data_9(N):\n",
    "    #Phát sinh dữ liệu bình thường như câu 8\n",
    "    X, Y = generate_data_f(N)\n",
    "    \n",
    "    #Tạo các cột dữ liệu theo công thức\n",
    "    X12 = np.array(X[:, 1] * X[:, 2]).reshape(N, 1)\n",
    "    X11 = np.array(X[:, 1] ** 2).reshape(N, 1)\n",
    "    X22 = np.array(X[:, 2] ** 2).reshape(N, 1)\n",
    "    \n",
    "    #Add các cột đã tạo vào input X\n",
    "    X = np.hstack((X, X12))\n",
    "    X = np.hstack((X, X11))\n",
    "    X = np.hstack((X, X22))\n",
    "    \n",
    "    return X, Y"
   ]
  },
  {
   "cell_type": "code",
   "execution_count": 20,
   "metadata": {},
   "outputs": [],
   "source": [
    "def runQ9(N, numberOfNoisify):\n",
    "    #Các đối tượng câu trả lời\n",
    "    g_s = {\n",
    "        \"a\": [-1.0, -.05, .08, .13, 1.5, 1.5],\n",
    "        \"b\": [-1.0, -.05, .08, .13, 1.5, 15.0],\n",
    "        \"c\": [-1.0, -.05, .08, .13, 15.0, 1.5],\n",
    "        \"d\": [-1.0, -1.5, .08, .13, .05, .05],\n",
    "        \"e\": [-1.0, -.05, .08, 1.5, .15, .15]\n",
    "    }\n",
    "    X, Y = generate_data_9(N)\n",
    "    noisify(numberOfNoisify, Y)\n",
    "    w = linearRegression(X, Y)\n",
    "    #Tính xem với đáp án nào thì sai số với gs cho sẵn với w tìm được khác nhau thấp nhẩt\n",
    "    for key, value in g_s.items():\n",
    "        errorCount = 0\n",
    "        for i in range(N):\n",
    "            if np.sign(np.dot(w.T, X[i])) != np.sign(np.dot(np.array(value).reshape(1, 6), X[i])):\n",
    "                errorCount += 1\n",
    "        print(key, \"agreement: \", errorCount)"
   ]
  },
  {
   "cell_type": "code",
   "execution_count": 21,
   "metadata": {},
   "outputs": [
    {
     "name": "stdout",
     "output_type": "stream",
     "text": [
      "a agreement:  31\n",
      "b agreement:  341\n",
      "c agreement:  327\n",
      "d agreement:  366\n",
      "e agreement:  460\n"
     ]
    }
   ],
   "source": [
    "runQ9(1000, 100)"
   ]
  },
  {
   "cell_type": "markdown",
   "metadata": {},
   "source": [
    "Câu 9: Ta thấy số lỗi ở câu a là nhỏ nhất nên đáp án là câu [a]"
   ]
  },
  {
   "cell_type": "code",
   "execution_count": 22,
   "metadata": {},
   "outputs": [],
   "source": [
    "def runQ10(N, numberOfNoisify):\n",
    "    num_runs = 1000\n",
    "    eout = []\n",
    "    for i in range(N):\n",
    "        X, Y = generate_data_9(N)\n",
    "        noisify(numberOfNoisify, Y)\n",
    "        #Lấy w từ câu 9\n",
    "        w = np.array([-1.0, -.05, .08, .13, 1.5, 1.5]).reshape(6, 1)\n",
    "        eout.append(Ew(X, Y, w))\n",
    "        \n",
    "    print(np.mean(eout))"
   ]
  },
  {
   "cell_type": "code",
   "execution_count": 23,
   "metadata": {},
   "outputs": [
    {
     "name": "stdout",
     "output_type": "stream",
     "text": [
      "0.14261399999999996\n"
     ]
    }
   ],
   "source": [
    "runQ10(1000, 100)"
   ]
  },
  {
   "cell_type": "markdown",
   "metadata": {},
   "source": [
    "Câu 10: Ta thấy đáp án gần nhất với câu [b]. 0.1"
   ]
  }
 ],
 "metadata": {
  "kernelspec": {
   "display_name": "Python 3",
   "language": "python",
   "name": "python3"
  },
  "language_info": {
   "codemirror_mode": {
    "name": "ipython",
    "version": 3
   },
   "file_extension": ".py",
   "mimetype": "text/x-python",
   "name": "python",
   "nbconvert_exporter": "python",
   "pygments_lexer": "ipython3",
   "version": "3.7.1"
  }
 },
 "nbformat": 4,
 "nbformat_minor": 2
}
